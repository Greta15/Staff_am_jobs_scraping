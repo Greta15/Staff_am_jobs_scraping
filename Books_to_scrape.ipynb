{
  "nbformat": 4,
  "nbformat_minor": 0,
  "metadata": {
    "colab": {
      "name": "Books to scrape.ipynb",
      "provenance": [],
      "collapsed_sections": []
    },
    "kernelspec": {
      "name": "python3",
      "display_name": "Python 3"
    }
  },
  "cells": [
    {
      "cell_type": "code",
      "metadata": {
        "id": "8-m8rpeBsZiZ",
        "colab_type": "code",
        "colab": {
          "base_uri": "https://localhost:8080/",
          "height": 476
        },
        "outputId": "72e9b0bc-1d63-4115-8381-41ad644baa2c"
      },
      "source": [
        "!pip install scrapy"
      ],
      "execution_count": 151,
      "outputs": [
        {
          "output_type": "stream",
          "text": [
            "Requirement already satisfied: scrapy in /usr/local/lib/python3.6/dist-packages (2.2.0)\n",
            "Requirement already satisfied: pyOpenSSL>=16.2.0 in /usr/local/lib/python3.6/dist-packages (from scrapy) (19.1.0)\n",
            "Requirement already satisfied: w3lib>=1.17.0 in /usr/local/lib/python3.6/dist-packages (from scrapy) (1.22.0)\n",
            "Requirement already satisfied: cssselect>=0.9.1 in /usr/local/lib/python3.6/dist-packages (from scrapy) (1.1.0)\n",
            "Requirement already satisfied: zope.interface>=4.1.3 in /usr/local/lib/python3.6/dist-packages (from scrapy) (5.1.0)\n",
            "Requirement already satisfied: itemadapter>=0.1.0 in /usr/local/lib/python3.6/dist-packages (from scrapy) (0.1.0)\n",
            "Requirement already satisfied: queuelib>=1.4.2 in /usr/local/lib/python3.6/dist-packages (from scrapy) (1.5.0)\n",
            "Requirement already satisfied: lxml>=3.5.0 in /usr/local/lib/python3.6/dist-packages (from scrapy) (4.2.6)\n",
            "Requirement already satisfied: parsel>=1.5.0 in /usr/local/lib/python3.6/dist-packages (from scrapy) (1.6.0)\n",
            "Requirement already satisfied: cryptography>=2.0 in /usr/local/lib/python3.6/dist-packages (from scrapy) (2.9.2)\n",
            "Requirement already satisfied: Twisted>=17.9.0 in /usr/local/lib/python3.6/dist-packages (from scrapy) (20.3.0)\n",
            "Requirement already satisfied: protego>=0.1.15 in /usr/local/lib/python3.6/dist-packages (from scrapy) (0.1.16)\n",
            "Requirement already satisfied: PyDispatcher>=2.0.5 in /usr/local/lib/python3.6/dist-packages (from scrapy) (2.0.5)\n",
            "Requirement already satisfied: service-identity>=16.0.0 in /usr/local/lib/python3.6/dist-packages (from scrapy) (18.1.0)\n",
            "Requirement already satisfied: six>=1.5.2 in /usr/local/lib/python3.6/dist-packages (from pyOpenSSL>=16.2.0->scrapy) (1.12.0)\n",
            "Requirement already satisfied: setuptools in /usr/local/lib/python3.6/dist-packages (from zope.interface>=4.1.3->scrapy) (47.3.1)\n",
            "Requirement already satisfied: cffi!=1.11.3,>=1.8 in /usr/local/lib/python3.6/dist-packages (from cryptography>=2.0->scrapy) (1.14.0)\n",
            "Requirement already satisfied: incremental>=16.10.1 in /usr/local/lib/python3.6/dist-packages (from Twisted>=17.9.0->scrapy) (17.5.0)\n",
            "Requirement already satisfied: PyHamcrest!=1.10.0,>=1.9.0 in /usr/local/lib/python3.6/dist-packages (from Twisted>=17.9.0->scrapy) (2.0.2)\n",
            "Requirement already satisfied: Automat>=0.3.0 in /usr/local/lib/python3.6/dist-packages (from Twisted>=17.9.0->scrapy) (20.2.0)\n",
            "Requirement already satisfied: attrs>=19.2.0 in /usr/local/lib/python3.6/dist-packages (from Twisted>=17.9.0->scrapy) (19.3.0)\n",
            "Requirement already satisfied: hyperlink>=17.1.1 in /usr/local/lib/python3.6/dist-packages (from Twisted>=17.9.0->scrapy) (19.0.0)\n",
            "Requirement already satisfied: constantly>=15.1 in /usr/local/lib/python3.6/dist-packages (from Twisted>=17.9.0->scrapy) (15.1.0)\n",
            "Requirement already satisfied: pyasn1-modules in /usr/local/lib/python3.6/dist-packages (from service-identity>=16.0.0->scrapy) (0.2.8)\n",
            "Requirement already satisfied: pyasn1 in /usr/local/lib/python3.6/dist-packages (from service-identity>=16.0.0->scrapy) (0.4.8)\n",
            "Requirement already satisfied: pycparser in /usr/local/lib/python3.6/dist-packages (from cffi!=1.11.3,>=1.8->cryptography>=2.0->scrapy) (2.20)\n",
            "Requirement already satisfied: idna>=2.5 in /usr/local/lib/python3.6/dist-packages (from hyperlink>=17.1.1->Twisted>=17.9.0->scrapy) (2.9)\n"
          ],
          "name": "stdout"
        }
      ]
    },
    {
      "cell_type": "code",
      "metadata": {
        "id": "syYAO_ygsfDu",
        "colab_type": "code",
        "colab": {}
      },
      "source": [
        "import time\n",
        "import requests\n",
        "import numpy as np\n",
        "import pandas as pd\n",
        "from scrapy.http import TextResponse\n",
        "import re"
      ],
      "execution_count": 152,
      "outputs": []
    },
    {
      "cell_type": "markdown",
      "metadata": {
        "id": "2ELFxekfxwfP",
        "colab_type": "text"
      },
      "source": [
        "# **Books to scrape** \n",
        "\n"
      ]
    },
    {
      "cell_type": "code",
      "metadata": {
        "id": "gsKgo5mRzh2l",
        "colab_type": "code",
        "colab": {}
      },
      "source": [
        "def booksto_scrape(url,base_url=\"http://books.toscrape.com/\"):\n",
        "    page = requests.get(url)\n",
        "    response = TextResponse(body=page.text,url=url,encoding=\"utf-8\")\n",
        "\n",
        "    book_title=response.css(\"h3>a::attr(title)\").extract()\n",
        "    book_rating = response.css(\"p[class^='star-rating']::attr(class)\").extract()\n",
        "    instock  =response.css(\"p.price_color ~ p.instock::attr(class)\").extract()\n",
        "    instock_or_not = [i.replace(\"availability\", \" \") for i in instock]\n",
        "    p_price = response.css(\"p.price_color::text\").extract()\n",
        "    price = [i.replace(\"Â\", \"\") for i in p_price]\n",
        "    book_page_URL = response.css(\"h3 >a::attr(href)\").extract()\n",
        "    book_picture_URL = response.css(\"img::attr(src)\").extract()\n",
        "    base_url = \"http://books.toscrape.com/catalogue/\"\n",
        "    book_page_URL2 = [base_url + i for i in book_page_URL ]\n",
        "    book_picture_URL2 = [base_url + i for i in book_picture_URL]\n",
        "    rating = []\n",
        "    for i in book_rating:\n",
        "        rating.append(i.replace(\"star-rating\", \"\"))\n",
        "    book_genre = []\n",
        "    book_description = []\n",
        "    \n",
        "    for i in book_page_URL2:\n",
        "        page = requests.get(i)\n",
        "        response = TextResponse(body=page.text,url=i,encoding=\"utf-8\")\n",
        "\n",
        "        book_genre.append(response.css(\"li~li~li > a::text\")[0].extract())\n",
        "        book_description.append(response.css(\"article[class='product_page'] > p::text\").extract_first())\n",
        "    \n",
        "    return pd.DataFrame({ \"price\":price,\"book_title\":book_title, \"rating\":rating,\"instock_or_not\":instock_or_not,\"book_genre\":book_genre,\"book_description\":book_description,\"book_page_URL2\":book_page_URL2,\"book_picture_URL2\":book_picture_URL2}) \n",
        "    \n",
        "    "
      ],
      "execution_count": 153,
      "outputs": []
    },
    {
      "cell_type": "code",
      "metadata": {
        "id": "QFIhMPNVsv5p",
        "colab_type": "code",
        "colab": {
          "base_uri": "https://localhost:8080/",
          "height": 929
        },
        "outputId": "91ff9935-2fa0-4603-ae96-ea1c36f1aa45"
      },
      "source": [
        "bookslist = []\n",
        "for i in range(1,1000):\n",
        "    current_page =booksto_scrape(url = f\"http://books.toscrape.com/catalogue/page-{i}.html\")\n",
        "    if current_page.shape[0] == 0:\n",
        "        break\n",
        "    else:\n",
        "        bookslist.append(current_page)\n",
        "bookslist = pd.concat(bookslist)\n",
        "bookslist"
      ],
      "execution_count": 154,
      "outputs": [
        {
          "output_type": "execute_result",
          "data": {
            "text/html": [
              "<div>\n",
              "<style scoped>\n",
              "    .dataframe tbody tr th:only-of-type {\n",
              "        vertical-align: middle;\n",
              "    }\n",
              "\n",
              "    .dataframe tbody tr th {\n",
              "        vertical-align: top;\n",
              "    }\n",
              "\n",
              "    .dataframe thead th {\n",
              "        text-align: right;\n",
              "    }\n",
              "</style>\n",
              "<table border=\"1\" class=\"dataframe\">\n",
              "  <thead>\n",
              "    <tr style=\"text-align: right;\">\n",
              "      <th></th>\n",
              "      <th>price</th>\n",
              "      <th>book_title</th>\n",
              "      <th>rating</th>\n",
              "      <th>instock_or_not</th>\n",
              "      <th>book_genre</th>\n",
              "      <th>book_description</th>\n",
              "      <th>book_page_URL2</th>\n",
              "      <th>book_picture_URL2</th>\n",
              "    </tr>\n",
              "  </thead>\n",
              "  <tbody>\n",
              "    <tr>\n",
              "      <th>0</th>\n",
              "      <td>£51.77</td>\n",
              "      <td>A Light in the Attic</td>\n",
              "      <td>Three</td>\n",
              "      <td>instock</td>\n",
              "      <td>Poetry</td>\n",
              "      <td>It's hard to imagine a world without A Light i...</td>\n",
              "      <td>http://books.toscrape.com/catalogue/a-light-in...</td>\n",
              "      <td>http://books.toscrape.com/catalogue/../media/c...</td>\n",
              "    </tr>\n",
              "    <tr>\n",
              "      <th>1</th>\n",
              "      <td>£53.74</td>\n",
              "      <td>Tipping the Velvet</td>\n",
              "      <td>One</td>\n",
              "      <td>instock</td>\n",
              "      <td>Historical Fiction</td>\n",
              "      <td>\"Erotic and absorbing...Written with starling ...</td>\n",
              "      <td>http://books.toscrape.com/catalogue/tipping-th...</td>\n",
              "      <td>http://books.toscrape.com/catalogue/../media/c...</td>\n",
              "    </tr>\n",
              "    <tr>\n",
              "      <th>2</th>\n",
              "      <td>£50.10</td>\n",
              "      <td>Soumission</td>\n",
              "      <td>One</td>\n",
              "      <td>instock</td>\n",
              "      <td>Fiction</td>\n",
              "      <td>Dans une France assez proche de la nÃ´tre, un ...</td>\n",
              "      <td>http://books.toscrape.com/catalogue/soumission...</td>\n",
              "      <td>http://books.toscrape.com/catalogue/../media/c...</td>\n",
              "    </tr>\n",
              "    <tr>\n",
              "      <th>3</th>\n",
              "      <td>£47.82</td>\n",
              "      <td>Sharp Objects</td>\n",
              "      <td>Four</td>\n",
              "      <td>instock</td>\n",
              "      <td>Mystery</td>\n",
              "      <td>WICKED above her hipbone, GIRL across her hear...</td>\n",
              "      <td>http://books.toscrape.com/catalogue/sharp-obje...</td>\n",
              "      <td>http://books.toscrape.com/catalogue/../media/c...</td>\n",
              "    </tr>\n",
              "    <tr>\n",
              "      <th>4</th>\n",
              "      <td>£54.23</td>\n",
              "      <td>Sapiens: A Brief History of Humankind</td>\n",
              "      <td>Five</td>\n",
              "      <td>instock</td>\n",
              "      <td>History</td>\n",
              "      <td>From a renowned historian comes a groundbreaki...</td>\n",
              "      <td>http://books.toscrape.com/catalogue/sapiens-a-...</td>\n",
              "      <td>http://books.toscrape.com/catalogue/../media/c...</td>\n",
              "    </tr>\n",
              "    <tr>\n",
              "      <th>...</th>\n",
              "      <td>...</td>\n",
              "      <td>...</td>\n",
              "      <td>...</td>\n",
              "      <td>...</td>\n",
              "      <td>...</td>\n",
              "      <td>...</td>\n",
              "      <td>...</td>\n",
              "      <td>...</td>\n",
              "    </tr>\n",
              "    <tr>\n",
              "      <th>15</th>\n",
              "      <td>£55.53</td>\n",
              "      <td>Alice in Wonderland (Alice's Adventures in Won...</td>\n",
              "      <td>One</td>\n",
              "      <td>instock</td>\n",
              "      <td>Classics</td>\n",
              "      <td>None</td>\n",
              "      <td>http://books.toscrape.com/catalogue/alice-in-w...</td>\n",
              "      <td>http://books.toscrape.com/catalogue/../media/c...</td>\n",
              "    </tr>\n",
              "    <tr>\n",
              "      <th>16</th>\n",
              "      <td>£57.06</td>\n",
              "      <td>Ajin: Demi-Human, Volume 1 (Ajin: Demi-Human #1)</td>\n",
              "      <td>Four</td>\n",
              "      <td>instock</td>\n",
              "      <td>Sequential Art</td>\n",
              "      <td>High school student Kei Nagai is struck dead i...</td>\n",
              "      <td>http://books.toscrape.com/catalogue/ajin-demi-...</td>\n",
              "      <td>http://books.toscrape.com/catalogue/../media/c...</td>\n",
              "    </tr>\n",
              "    <tr>\n",
              "      <th>17</th>\n",
              "      <td>£16.97</td>\n",
              "      <td>A Spy's Devotion (The Regency Spies of London #1)</td>\n",
              "      <td>Five</td>\n",
              "      <td>instock</td>\n",
              "      <td>Historical Fiction</td>\n",
              "      <td>In Englandâs Regency era, manners and elegan...</td>\n",
              "      <td>http://books.toscrape.com/catalogue/a-spys-dev...</td>\n",
              "      <td>http://books.toscrape.com/catalogue/../media/c...</td>\n",
              "    </tr>\n",
              "    <tr>\n",
              "      <th>18</th>\n",
              "      <td>£53.98</td>\n",
              "      <td>1st to Die (Women's Murder Club #1)</td>\n",
              "      <td>One</td>\n",
              "      <td>instock</td>\n",
              "      <td>Mystery</td>\n",
              "      <td>James Patterson, bestselling author of the Ale...</td>\n",
              "      <td>http://books.toscrape.com/catalogue/1st-to-die...</td>\n",
              "      <td>http://books.toscrape.com/catalogue/../media/c...</td>\n",
              "    </tr>\n",
              "    <tr>\n",
              "      <th>19</th>\n",
              "      <td>£26.08</td>\n",
              "      <td>1,000 Places to See Before You Die</td>\n",
              "      <td>Five</td>\n",
              "      <td>instock</td>\n",
              "      <td>Travel</td>\n",
              "      <td>Around the World, continent by continent, here...</td>\n",
              "      <td>http://books.toscrape.com/catalogue/1000-place...</td>\n",
              "      <td>http://books.toscrape.com/catalogue/../media/c...</td>\n",
              "    </tr>\n",
              "  </tbody>\n",
              "</table>\n",
              "<p>1000 rows × 8 columns</p>\n",
              "</div>"
            ],
            "text/plain": [
              "     price  ...                                  book_picture_URL2\n",
              "0   £51.77  ...  http://books.toscrape.com/catalogue/../media/c...\n",
              "1   £53.74  ...  http://books.toscrape.com/catalogue/../media/c...\n",
              "2   £50.10  ...  http://books.toscrape.com/catalogue/../media/c...\n",
              "3   £47.82  ...  http://books.toscrape.com/catalogue/../media/c...\n",
              "4   £54.23  ...  http://books.toscrape.com/catalogue/../media/c...\n",
              "..     ...  ...                                                ...\n",
              "15  £55.53  ...  http://books.toscrape.com/catalogue/../media/c...\n",
              "16  £57.06  ...  http://books.toscrape.com/catalogue/../media/c...\n",
              "17  £16.97  ...  http://books.toscrape.com/catalogue/../media/c...\n",
              "18  £53.98  ...  http://books.toscrape.com/catalogue/../media/c...\n",
              "19  £26.08  ...  http://books.toscrape.com/catalogue/../media/c...\n",
              "\n",
              "[1000 rows x 8 columns]"
            ]
          },
          "metadata": {
            "tags": []
          },
          "execution_count": 154
        }
      ]
    },
    {
      "cell_type": "code",
      "metadata": {
        "id": "35y-Z19ws6a9",
        "colab_type": "code",
        "colab": {}
      },
      "source": [
        "bookslist.to_excel('bookslist.xlsx', index=False)"
      ],
      "execution_count": 155,
      "outputs": []
    },
    {
      "cell_type": "code",
      "metadata": {
        "id": "6G-K2ykTbFOj",
        "colab_type": "code",
        "colab": {}
      },
      "source": [
        "data=(bookslist[\"price\"])"
      ],
      "execution_count": 156,
      "outputs": []
    },
    {
      "cell_type": "code",
      "metadata": {
        "id": "RTG4Q8XPbuTz",
        "colab_type": "code",
        "colab": {
          "base_uri": "https://localhost:8080/",
          "height": 34
        },
        "outputId": "732501b1-bab6-4e11-89e9-6e5e0778e668"
      },
      "source": [
        "type(data)"
      ],
      "execution_count": 157,
      "outputs": [
        {
          "output_type": "execute_result",
          "data": {
            "text/plain": [
              "pandas.core.series.Series"
            ]
          },
          "metadata": {
            "tags": []
          },
          "execution_count": 157
        }
      ]
    },
    {
      "cell_type": "code",
      "metadata": {
        "id": "wh20YotlfUxv",
        "colab_type": "code",
        "colab": {
          "base_uri": "https://localhost:8080/",
          "height": 51
        },
        "outputId": "d507eec4-c3bc-4a0a-f60f-aec75c79a9f6"
      },
      "source": [
        "bookslist[bookslist[\"price\"] == bookslist[\"price\"].max()][\"book_genre\"]"
      ],
      "execution_count": 158,
      "outputs": [
        {
          "output_type": "execute_result",
          "data": {
            "text/plain": [
              "8    Romance\n",
              "Name: book_genre, dtype: object"
            ]
          },
          "metadata": {
            "tags": []
          },
          "execution_count": 158
        }
      ]
    },
    {
      "cell_type": "markdown",
      "metadata": {
        "id": "TXOOaZtTh80Y",
        "colab_type": "text"
      },
      "source": [
        "The expensive genre is Romance"
      ]
    },
    {
      "cell_type": "code",
      "metadata": {
        "id": "XzB9O3ovfoGv",
        "colab_type": "code",
        "colab": {
          "base_uri": "https://localhost:8080/",
          "height": 35
        },
        "outputId": "522d90ad-c4de-4c22-80fe-30d1e908363d"
      },
      "source": [
        "bookslist[\"price\"].max()"
      ],
      "execution_count": 159,
      "outputs": [
        {
          "output_type": "execute_result",
          "data": {
            "application/vnd.google.colaboratory.intrinsic": {
              "type": "string"
            },
            "text/plain": [
              "'£59.99'"
            ]
          },
          "metadata": {
            "tags": []
          },
          "execution_count": 159
        }
      ]
    },
    {
      "cell_type": "code",
      "metadata": {
        "id": "SXNiwlhQftYH",
        "colab_type": "code",
        "colab": {
          "base_uri": "https://localhost:8080/",
          "height": 119
        },
        "outputId": "83d1582c-f0b4-44f5-8462-d14339d0228f"
      },
      "source": [
        "bookslist[\"rating\"].value_counts()"
      ],
      "execution_count": 160,
      "outputs": [
        {
          "output_type": "execute_result",
          "data": {
            "text/plain": [
              " One      226\n",
              " Three    203\n",
              " Two      196\n",
              " Five     196\n",
              " Four     179\n",
              "Name: rating, dtype: int64"
            ]
          },
          "metadata": {
            "tags": []
          },
          "execution_count": 160
        }
      ]
    },
    {
      "cell_type": "markdown",
      "metadata": {
        "id": "NKejbkx4gTNp",
        "colab_type": "text"
      },
      "source": [
        "226 books are one star\n",
        "203 books are three star and so on"
      ]
    }
  ]
}