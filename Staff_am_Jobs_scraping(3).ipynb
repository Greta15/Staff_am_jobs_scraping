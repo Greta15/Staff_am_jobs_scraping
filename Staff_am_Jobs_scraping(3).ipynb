{
  "nbformat": 4,
  "nbformat_minor": 0,
  "metadata": {
    "colab": {
      "name": "Staff.am Jobs scraping(3).ipynb",
      "provenance": [],
      "collapsed_sections": []
    },
    "kernelspec": {
      "name": "python3",
      "display_name": "Python 3"
    }
  },
  "cells": [
    {
      "cell_type": "code",
      "metadata": {
        "id": "24M-40wqJUAx",
        "colab_type": "code",
        "colab": {
          "base_uri": "https://localhost:8080/",
          "height": 476
        },
        "outputId": "304b5c81-39f6-45d6-ab6f-a0e96c6c7e08"
      },
      "source": [
        "import time\n",
        "import requests\n",
        "import numpy as np\n",
        "import pandas as pd\n",
        "import re\n",
        "!pip install scrapy\n",
        "from scrapy.http import TextResponse\n"
      ],
      "execution_count": 51,
      "outputs": [
        {
          "output_type": "stream",
          "text": [
            "Requirement already satisfied: scrapy in /usr/local/lib/python3.6/dist-packages (2.2.0)\n",
            "Requirement already satisfied: queuelib>=1.4.2 in /usr/local/lib/python3.6/dist-packages (from scrapy) (1.5.0)\n",
            "Requirement already satisfied: PyDispatcher>=2.0.5 in /usr/local/lib/python3.6/dist-packages (from scrapy) (2.0.5)\n",
            "Requirement already satisfied: cssselect>=0.9.1 in /usr/local/lib/python3.6/dist-packages (from scrapy) (1.1.0)\n",
            "Requirement already satisfied: w3lib>=1.17.0 in /usr/local/lib/python3.6/dist-packages (from scrapy) (1.22.0)\n",
            "Requirement already satisfied: cryptography>=2.0 in /usr/local/lib/python3.6/dist-packages (from scrapy) (2.9.2)\n",
            "Requirement already satisfied: itemadapter>=0.1.0 in /usr/local/lib/python3.6/dist-packages (from scrapy) (0.1.0)\n",
            "Requirement already satisfied: protego>=0.1.15 in /usr/local/lib/python3.6/dist-packages (from scrapy) (0.1.16)\n",
            "Requirement already satisfied: zope.interface>=4.1.3 in /usr/local/lib/python3.6/dist-packages (from scrapy) (5.1.0)\n",
            "Requirement already satisfied: parsel>=1.5.0 in /usr/local/lib/python3.6/dist-packages (from scrapy) (1.6.0)\n",
            "Requirement already satisfied: lxml>=3.5.0 in /usr/local/lib/python3.6/dist-packages (from scrapy) (4.2.6)\n",
            "Requirement already satisfied: service-identity>=16.0.0 in /usr/local/lib/python3.6/dist-packages (from scrapy) (18.1.0)\n",
            "Requirement already satisfied: pyOpenSSL>=16.2.0 in /usr/local/lib/python3.6/dist-packages (from scrapy) (19.1.0)\n",
            "Requirement already satisfied: Twisted>=17.9.0 in /usr/local/lib/python3.6/dist-packages (from scrapy) (20.3.0)\n",
            "Requirement already satisfied: six>=1.4.1 in /usr/local/lib/python3.6/dist-packages (from w3lib>=1.17.0->scrapy) (1.12.0)\n",
            "Requirement already satisfied: cffi!=1.11.3,>=1.8 in /usr/local/lib/python3.6/dist-packages (from cryptography>=2.0->scrapy) (1.14.0)\n",
            "Requirement already satisfied: setuptools in /usr/local/lib/python3.6/dist-packages (from zope.interface>=4.1.3->scrapy) (47.3.1)\n",
            "Requirement already satisfied: attrs>=16.0.0 in /usr/local/lib/python3.6/dist-packages (from service-identity>=16.0.0->scrapy) (19.3.0)\n",
            "Requirement already satisfied: pyasn1 in /usr/local/lib/python3.6/dist-packages (from service-identity>=16.0.0->scrapy) (0.4.8)\n",
            "Requirement already satisfied: pyasn1-modules in /usr/local/lib/python3.6/dist-packages (from service-identity>=16.0.0->scrapy) (0.2.8)\n",
            "Requirement already satisfied: PyHamcrest!=1.10.0,>=1.9.0 in /usr/local/lib/python3.6/dist-packages (from Twisted>=17.9.0->scrapy) (2.0.2)\n",
            "Requirement already satisfied: constantly>=15.1 in /usr/local/lib/python3.6/dist-packages (from Twisted>=17.9.0->scrapy) (15.1.0)\n",
            "Requirement already satisfied: incremental>=16.10.1 in /usr/local/lib/python3.6/dist-packages (from Twisted>=17.9.0->scrapy) (17.5.0)\n",
            "Requirement already satisfied: Automat>=0.3.0 in /usr/local/lib/python3.6/dist-packages (from Twisted>=17.9.0->scrapy) (20.2.0)\n",
            "Requirement already satisfied: hyperlink>=17.1.1 in /usr/local/lib/python3.6/dist-packages (from Twisted>=17.9.0->scrapy) (19.0.0)\n",
            "Requirement already satisfied: pycparser in /usr/local/lib/python3.6/dist-packages (from cffi!=1.11.3,>=1.8->cryptography>=2.0->scrapy) (2.20)\n",
            "Requirement already satisfied: idna>=2.5 in /usr/local/lib/python3.6/dist-packages (from hyperlink>=17.1.1->Twisted>=17.9.0->scrapy) (2.9)\n"
          ],
          "name": "stdout"
        }
      ]
    },
    {
      "cell_type": "markdown",
      "metadata": {
        "id": "nCxQOsdDHdpt",
        "colab_type": "text"
      },
      "source": [
        "\n",
        "\n",
        "\n",
        "# **Staff.am Jobs scraping** "
      ]
    },
    {
      "cell_type": "code",
      "metadata": {
        "id": "ngaor3L0Jss4",
        "colab_type": "code",
        "colab": {}
      },
      "source": [
        "URL=\"https://staff.am/en/jobs\""
      ],
      "execution_count": 52,
      "outputs": []
    },
    {
      "cell_type": "code",
      "metadata": {
        "id": "9eFZ6X62J5RN",
        "colab_type": "code",
        "colab": {}
      },
      "source": [
        "page=requests.get(URL)"
      ],
      "execution_count": 53,
      "outputs": []
    },
    {
      "cell_type": "code",
      "metadata": {
        "id": "OS6ZSaE5J6j1",
        "colab_type": "code",
        "colab": {
          "base_uri": "https://localhost:8080/",
          "height": 34
        },
        "outputId": "c8a11536-5f88-4266-9af1-8ed237aa26f6"
      },
      "source": [
        "type(page)"
      ],
      "execution_count": 54,
      "outputs": [
        {
          "output_type": "execute_result",
          "data": {
            "text/plain": [
              "requests.models.Response"
            ]
          },
          "metadata": {
            "tags": []
          },
          "execution_count": 54
        }
      ]
    },
    {
      "cell_type": "code",
      "metadata": {
        "id": "SiCWxjIzJ9KW",
        "colab_type": "code",
        "colab": {}
      },
      "source": [
        "response= TextResponse(body=page.text,url=URL,encoding=\"utf-8\")"
      ],
      "execution_count": 55,
      "outputs": []
    },
    {
      "cell_type": "code",
      "metadata": {
        "id": "JIw-irEcJ_2N",
        "colab_type": "code",
        "colab": {}
      },
      "source": [
        "def request(url):\n",
        "    page = requests.get(url)\n",
        "    response = TextResponse(body=page.text,url=url,encoding=\"utf-8\")\n",
        "    return response"
      ],
      "execution_count": 56,
      "outputs": []
    },
    {
      "cell_type": "code",
      "metadata": {
        "id": "DQCO_-ASDind",
        "colab_type": "code",
        "colab": {
          "base_uri": "https://localhost:8080/",
          "height": 419
        },
        "outputId": "d3d169be-2888-42bf-a8f0-76a63f358ab1"
      },
      "source": [
        "def jobsto_scrape(url):\n",
        "    page = requests.get(url)\n",
        "    response= TextResponse(body=page.text,url=url,encoding=\"utf-8\")\n",
        "    \n",
        "    vacancy_name=response.css(\"div.job-inner.job-item-title\").extract()\n",
        "    vacancy=[i.css('p.font_bold::text').extract_first() for i in response.css(\"div.job-inner.job-item-title\")]\n",
        "    company_name=response.css(\"div.job-inner.job-item-title\").extract()\n",
        "    company=[i.css('p.font_bold ~ p.job_list_company_title::text').extract_first() for i in response.css(\"div.job-inner.job-item-title\")]\n",
        "    base_url2 = \"https://staff.am\"\n",
        "    job_page_URL = response.css(\"div.web_item_card.hs_job_list_item>a::attr(href)\").extract()\n",
        "    job_page_URL2 = [base_url2 + i for i in job_page_URL ]\n",
        "    job_location = response.css(\"div[class = 'job-inner job-list-deadline'] >p[class='job_location']\")\n",
        "    job_loc = [i.css(\"::text\").extract()[1] for i in job_location]\n",
        "    location = [i.replace('\\n',\"\").strip() for i in job_loc]\n",
        "    deadline = response.css(\"div[class = 'job-inner job-list-deadline'] >p:not([class='job_location'])\")\n",
        "    post_deadline2 =[i.css('::text').extract()[1] for i in deadline]\n",
        "    posting_deadline =[i.replace('\\n',\" \") for i in post_deadline2]\n",
        "    return pd.DataFrame({\"vacancy\":vacancy,\"company\":company,'job_page_URL2':job_page_URL2,\"posting_deadline\":posting_deadline,'location':location})\n",
        "staff_jobs = []\n",
        "for i in range(1,20):\n",
        "    current_page =jobsto_scrape(url = f\"https://staff.am/en/jobs?page={i}&per-page=50\")\n",
        "    if current_page.shape[0] == 0:\n",
        "        break\n",
        "    else:\n",
        "        staff_jobs.append(current_page)\n",
        "staff_jobs = pd.concat(staff_jobs)\n",
        "staff_jobs\n",
        "\n",
        "    "
      ],
      "execution_count": 57,
      "outputs": [
        {
          "output_type": "execute_result",
          "data": {
            "text/html": [
              "<div>\n",
              "<style scoped>\n",
              "    .dataframe tbody tr th:only-of-type {\n",
              "        vertical-align: middle;\n",
              "    }\n",
              "\n",
              "    .dataframe tbody tr th {\n",
              "        vertical-align: top;\n",
              "    }\n",
              "\n",
              "    .dataframe thead th {\n",
              "        text-align: right;\n",
              "    }\n",
              "</style>\n",
              "<table border=\"1\" class=\"dataframe\">\n",
              "  <thead>\n",
              "    <tr style=\"text-align: right;\">\n",
              "      <th></th>\n",
              "      <th>vacancy</th>\n",
              "      <th>company</th>\n",
              "      <th>job_page_URL2</th>\n",
              "      <th>posting_deadline</th>\n",
              "      <th>location</th>\n",
              "    </tr>\n",
              "  </thead>\n",
              "  <tbody>\n",
              "    <tr>\n",
              "      <th>0</th>\n",
              "      <td>Creative Account Manager</td>\n",
              "      <td>Publicis Hepta LLC</td>\n",
              "      <td>https://staff.am/en/creative-account-manager-1</td>\n",
              "      <td>15 July 2020</td>\n",
              "      <td>Yerevan</td>\n",
              "    </tr>\n",
              "    <tr>\n",
              "      <th>1</th>\n",
              "      <td>Graphic Designer</td>\n",
              "      <td>Publicis Hepta LLC</td>\n",
              "      <td>https://staff.am/en/graphic-designer-376</td>\n",
              "      <td>15 July 2020</td>\n",
              "      <td>Yerevan</td>\n",
              "    </tr>\n",
              "    <tr>\n",
              "      <th>2</th>\n",
              "      <td>QA Engineer</td>\n",
              "      <td>PicsArt</td>\n",
              "      <td>https://staff.am/en/qa-engineer-509</td>\n",
              "      <td>31 July 2020</td>\n",
              "      <td>Yerevan</td>\n",
              "    </tr>\n",
              "    <tr>\n",
              "      <th>3</th>\n",
              "      <td>Web Designer</td>\n",
              "      <td>PicsArt</td>\n",
              "      <td>https://staff.am/en/web-designer-73</td>\n",
              "      <td>31 July 2020</td>\n",
              "      <td>Yerevan</td>\n",
              "    </tr>\n",
              "    <tr>\n",
              "      <th>4</th>\n",
              "      <td>Product Designer</td>\n",
              "      <td>PicsArt</td>\n",
              "      <td>https://staff.am/en/product-designer-26</td>\n",
              "      <td>31 July 2020</td>\n",
              "      <td>Yerevan</td>\n",
              "    </tr>\n",
              "    <tr>\n",
              "      <th>...</th>\n",
              "      <td>...</td>\n",
              "      <td>...</td>\n",
              "      <td>...</td>\n",
              "      <td>...</td>\n",
              "      <td>...</td>\n",
              "    </tr>\n",
              "    <tr>\n",
              "      <th>42</th>\n",
              "      <td>Senior Software Engineer, Front-End</td>\n",
              "      <td>ServiceTitan</td>\n",
              "      <td>https://staff.am/en/sr-software-engineer-front...</td>\n",
              "      <td>03 July 2020</td>\n",
              "      <td>Yerevan</td>\n",
              "    </tr>\n",
              "    <tr>\n",
              "      <th>43</th>\n",
              "      <td>Senior Site Reliability Engineer</td>\n",
              "      <td>ServiceTitan</td>\n",
              "      <td>https://staff.am/en/senior-site-reliability-en...</td>\n",
              "      <td>15 July 2020</td>\n",
              "      <td>Yerevan</td>\n",
              "    </tr>\n",
              "    <tr>\n",
              "      <th>44</th>\n",
              "      <td>Lead Software Engineer</td>\n",
              "      <td>ServiceTitan</td>\n",
              "      <td>https://staff.am/en/lead-software-engineer</td>\n",
              "      <td>05 July 2020</td>\n",
              "      <td>Yerevan</td>\n",
              "    </tr>\n",
              "    <tr>\n",
              "      <th>45</th>\n",
              "      <td>QA Automation Engineer</td>\n",
              "      <td>ServiceTitan</td>\n",
              "      <td>https://staff.am/en/qa-automation-engineer-91</td>\n",
              "      <td>05 July 2020</td>\n",
              "      <td>Yerevan</td>\n",
              "    </tr>\n",
              "    <tr>\n",
              "      <th>46</th>\n",
              "      <td>Operations Center Engineer</td>\n",
              "      <td>ServiceTitan</td>\n",
              "      <td>https://staff.am/en/operations-center-engineer</td>\n",
              "      <td>15 July 2020</td>\n",
              "      <td>Yerevan</td>\n",
              "    </tr>\n",
              "  </tbody>\n",
              "</table>\n",
              "<p>547 rows × 5 columns</p>\n",
              "</div>"
            ],
            "text/plain": [
              "                                vacancy  ... location\n",
              "0              Creative Account Manager  ...  Yerevan\n",
              "1                      Graphic Designer  ...  Yerevan\n",
              "2                           QA Engineer  ...  Yerevan\n",
              "3                          Web Designer  ...  Yerevan\n",
              "4                      Product Designer  ...  Yerevan\n",
              "..                                  ...  ...      ...\n",
              "42  Senior Software Engineer, Front-End  ...  Yerevan\n",
              "43     Senior Site Reliability Engineer  ...  Yerevan\n",
              "44               Lead Software Engineer  ...  Yerevan\n",
              "45               QA Automation Engineer  ...  Yerevan\n",
              "46           Operations Center Engineer  ...  Yerevan\n",
              "\n",
              "[547 rows x 5 columns]"
            ]
          },
          "metadata": {
            "tags": []
          },
          "execution_count": 57
        }
      ]
    },
    {
      "cell_type": "markdown",
      "metadata": {
        "id": "A4Kj0OmOZKpc",
        "colab_type": "text"
      },
      "source": [
        " \n",
        "\n",
        "*   **The number of times the specified company appears( current job posting count)**\n",
        "\n",
        "\n"
      ]
    },
    {
      "cell_type": "code",
      "metadata": {
        "id": "ae67jAKfWZJS",
        "colab_type": "code",
        "colab": {
          "base_uri": "https://localhost:8080/",
          "height": 221
        },
        "outputId": "847487fc-8c08-4305-c11e-18fb7dd2c803"
      },
      "source": [
        "staff_jobs['company']"
      ],
      "execution_count": 58,
      "outputs": [
        {
          "output_type": "execute_result",
          "data": {
            "text/plain": [
              "0     Publicis Hepta LLC\n",
              "1     Publicis Hepta LLC\n",
              "2                PicsArt\n",
              "3                PicsArt\n",
              "4                PicsArt\n",
              "             ...        \n",
              "42          ServiceTitan\n",
              "43          ServiceTitan\n",
              "44          ServiceTitan\n",
              "45          ServiceTitan\n",
              "46          ServiceTitan\n",
              "Name: company, Length: 547, dtype: object"
            ]
          },
          "metadata": {
            "tags": []
          },
          "execution_count": 58
        }
      ]
    },
    {
      "cell_type": "code",
      "metadata": {
        "id": "40IBUkFsrG5j",
        "colab_type": "code",
        "colab": {
          "base_uri": "https://localhost:8080/",
          "height": 221
        },
        "outputId": "59dc0eb2-481c-490f-f6bf-8100e4a17110"
      },
      "source": [
        "staff_jobs['company'].count"
      ],
      "execution_count": 59,
      "outputs": [
        {
          "output_type": "execute_result",
          "data": {
            "text/plain": [
              "<bound method Series.count of 0     Publicis Hepta LLC\n",
              "1     Publicis Hepta LLC\n",
              "2                PicsArt\n",
              "3                PicsArt\n",
              "4                PicsArt\n",
              "             ...        \n",
              "42          ServiceTitan\n",
              "43          ServiceTitan\n",
              "44          ServiceTitan\n",
              "45          ServiceTitan\n",
              "46          ServiceTitan\n",
              "Name: company, Length: 547, dtype: object>"
            ]
          },
          "metadata": {
            "tags": []
          },
          "execution_count": 59
        }
      ]
    },
    {
      "cell_type": "code",
      "metadata": {
        "id": "ISc5EjKaYqIF",
        "colab_type": "code",
        "colab": {
          "base_uri": "https://localhost:8080/",
          "height": 221
        },
        "outputId": "c80331b9-43b7-4022-922f-8a5d998bbb05"
      },
      "source": [
        "staff_jobs['company'].value_counts()"
      ],
      "execution_count": 60,
      "outputs": [
        {
          "output_type": "execute_result",
          "data": {
            "text/plain": [
              "Digitain              32\n",
              "SoftConstruct         23\n",
              "PicsArt               21\n",
              "ServiceTitan          16\n",
              "TeamViewer Armenia    12\n",
              "                      ..\n",
              "AOByte                 1\n",
              "Genacvale Tavern       1\n",
              "VG LLC                 1\n",
              "ANITEX LLC             1\n",
              "LSOFT LTD              1\n",
              "Name: company, Length: 230, dtype: int64"
            ]
          },
          "metadata": {
            "tags": []
          },
          "execution_count": 60
        }
      ]
    },
    {
      "cell_type": "markdown",
      "metadata": {
        "id": "0wnZzIz5Z2RP",
        "colab_type": "text"
      },
      "source": [
        "\n",
        "\n",
        "*   **The number of jobs posted by that companies**\n",
        "\n",
        "\n"
      ]
    },
    {
      "cell_type": "markdown",
      "metadata": {
        "id": "0UpD5hYhaWFA",
        "colab_type": "text"
      },
      "source": [
        "\n",
        "\n",
        "1.   Digitain- 32\n",
        "2.   SoftConstruct-23\n",
        "\n",
        "1.   Picsart-21\n",
        "2.   ServiceTitan-16 \n",
        "\n",
        "\n",
        "\n",
        "\n",
        "\n"
      ]
    },
    {
      "cell_type": "markdown",
      "metadata": {
        "id": "ZMkvjZNva30H",
        "colab_type": "text"
      },
      "source": [
        "\n",
        "\n",
        "*   **Jobs including word 'data' inside**\n",
        "\n",
        "\n"
      ]
    },
    {
      "cell_type": "code",
      "metadata": {
        "id": "Fu0VW9Y5h0pe",
        "colab_type": "code",
        "colab": {
          "base_uri": "https://localhost:8080/",
          "height": 221
        },
        "outputId": "8745665f-3cb3-4021-d750-930acbabc94e"
      },
      "source": [
        "[staff_jobs['vacancy']]"
      ],
      "execution_count": 61,
      "outputs": [
        {
          "output_type": "execute_result",
          "data": {
            "text/plain": [
              "[0                Creative Account Manager\n",
              " 1                        Graphic Designer\n",
              " 2                             QA Engineer\n",
              " 3                            Web Designer\n",
              " 4                        Product Designer\n",
              "                      ...                 \n",
              " 42    Senior Software Engineer, Front-End\n",
              " 43       Senior Site Reliability Engineer\n",
              " 44                 Lead Software Engineer\n",
              " 45                 QA Automation Engineer\n",
              " 46             Operations Center Engineer\n",
              " Name: vacancy, Length: 547, dtype: object]"
            ]
          },
          "metadata": {
            "tags": []
          },
          "execution_count": 61
        }
      ]
    },
    {
      "cell_type": "code",
      "metadata": {
        "id": "rv-DsQ68hX9w",
        "colab_type": "code",
        "colab": {
          "base_uri": "https://localhost:8080/",
          "height": 221
        },
        "outputId": "05efe3b3-382b-454d-f162-26540655e224"
      },
      "source": [
        "staff_jobs1=staff_jobs[staff_jobs['vacancy'].str.contains(\"Data\")]\n",
        "print (staff_jobs1)"
      ],
      "execution_count": 62,
      "outputs": [
        {
          "output_type": "stream",
          "text": [
            "                                           vacancy  ... location\n",
            "14                                  Data Scientist  ...  Yerevan\n",
            "15                           Data Engineer (Spark)  ...  Yerevan\n",
            "10                                    Data analyst  ...  Yerevan\n",
            "34                                   Data Engineer  ...  Yerevan\n",
            "19                   Junior Database Administrator  ...  Yerevan\n",
            "42                   Senior Database Administrator  ...  Yerevan\n",
            "16                   Data Specialist / QA Engineer  ...  Yerevan\n",
            "29                          Database Administrator  ...  Yerevan\n",
            "40  Engineering Manager, Java Microservices & Data  ...  Yerevan\n",
            "\n",
            "[9 rows x 5 columns]\n"
          ],
          "name": "stdout"
        }
      ]
    },
    {
      "cell_type": "code",
      "metadata": {
        "id": "q3kfxw-FiXf7",
        "colab_type": "code",
        "colab": {
          "base_uri": "https://localhost:8080/",
          "height": 34
        },
        "outputId": "a66f5eb8-0162-44cd-ebaa-725e53082953"
      },
      "source": [
        "(staff_jobs1['vacancy']).count()"
      ],
      "execution_count": 63,
      "outputs": [
        {
          "output_type": "execute_result",
          "data": {
            "text/plain": [
              "9"
            ]
          },
          "metadata": {
            "tags": []
          },
          "execution_count": 63
        }
      ]
    },
    {
      "cell_type": "markdown",
      "metadata": {
        "id": "jakRAaJuiB50",
        "colab_type": "text"
      },
      "source": [
        "*9 jobs have the word \"Data\" inside* ( it was 9 when i checked the last time)\n",
        "Data Scientist  \n",
        "Data Engineer (Spark)  \n",
        "Data analyst  \n",
        "Data Engineer  \n",
        "Junior Database Administrator  \n",
        "Senior Database Administrator  \n",
        "Data Specialist / QA Engineer  \n",
        "Database Administrator  \n",
        "Engineering Manager, Java Microservices & Data"
      ]
    }
  ]
}